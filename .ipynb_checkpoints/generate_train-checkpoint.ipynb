{
 "cells": [
  {
   "cell_type": "markdown",
   "metadata": {},
   "source": [
    "## Παραγωγή αρχείου train.csv από τα αρχεία δεδομένων στον φάκελο data.\n",
    "### <span style=\"color:red\">Βασική προϋπόθεση:</span> στο directory που βρίσκονται τα notebooks, να υπάρχει ένας φάκελος data, όπου περιέχει τα αρχεία δεδομένων κατηγοριοποιημένα σε φακέλους ανά μήνα."
   ]
  },
  {
   "cell_type": "code",
   "execution_count": 7,
   "metadata": {},
   "outputs": [],
   "source": [
    "train_columns = ['id', 'zipcode', 'transit', 'bedrooms', 'beds', 'review_scores_rating', 'number_of_reviews'\n",
    "                 ,'neighbourhood', 'name', 'latitude', 'longitude', 'last_review', 'instant_bookable', 'host_since'\n",
    "                 ,'host_response_rate', 'host_identity_verified', 'host_has_profile_pic', 'first_review'\n",
    "                 ,'description', 'city', 'cancellation_policy', 'bed_type', 'bathrooms', 'accommodates'\n",
    "                 ,'amenities', 'room_type', 'property_type', 'price', 'availability_365', 'minimum_nights']"
   ]
  },
  {
   "cell_type": "markdown",
   "metadata": {},
   "source": [
    "Χρησιμοποιούμε μόνο το αρχείο listings.csv για την δημιουργία του 'train', αφού οι όλες οι παραπάνω στήλες εμπεριέχονται σε αυτό."
   ]
  },
  {
   "cell_type": "code",
   "execution_count": 9,
   "metadata": {},
   "outputs": [],
   "source": [
    "import os\n",
    "import pandas as pd\n",
    "import numpy as np\n",
    "\n",
    "data_dir = os.path.join(os.getcwd(),\"data\") # Get the project's 'data' directory\n",
    "\n",
    "\"\"\" Store the folder names(months)that contain our data files per month. \"\"\"\n",
    "months = [item for item in os.listdir(data_dir) if os.path.isdir(os.path.join(data_dir, item)) ] \n",
    "\n",
    "frame_per_month = []\n",
    "for month in months:\n",
    "    month_dir = os.path.join(data_dir,month)\n",
    "    listings_df = pd.read_csv(os.path.join(month_dir,\"listings.csv\"), usecols = train_columns)\n",
    "    listings_df.price = [x.replace('$', '') for x in listings_df.price]\n",
    "    listings_df.price = [x.replace(',', '') for x in listings_df.price]\n",
    "    listings_df['price'] = pd.to_numeric(listings_df['price'])\n",
    "    listings_df['month'] = month\n",
    "    frame_per_month.append(listings_df)\n",
    "    \n",
    "for frame in frame_per_month:\n",
    "    frame.columns = frame_per_month[0].columns\n",
    "result = pd.concat(frame_per_month, ignore_index = True)\n",
    "result['review_scores_rating'].fillna((result['review_scores_rating'].mean()), inplace=True)\n",
    "result = result[result['last_review'].notnull()]\n",
    "result.to_csv(\"train.csv\",index=False)"
   ]
  },
  {
   "cell_type": "code",
   "execution_count": null,
   "metadata": {},
   "outputs": [],
   "source": []
  }
 ],
 "metadata": {
  "kernelspec": {
   "display_name": "Python 3",
   "language": "python",
   "name": "python3"
  },
  "language_info": {
   "codemirror_mode": {
    "name": "ipython",
    "version": 3
   },
   "file_extension": ".py",
   "mimetype": "text/x-python",
   "name": "python",
   "nbconvert_exporter": "python",
   "pygments_lexer": "ipython3",
   "version": "3.7.6"
  }
 },
 "nbformat": 4,
 "nbformat_minor": 4
}
