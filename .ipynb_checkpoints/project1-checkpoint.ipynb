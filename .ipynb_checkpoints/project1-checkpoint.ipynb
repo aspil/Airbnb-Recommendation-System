{
 "cells": [
  {
   "cell_type": "markdown",
   "metadata": {},
   "source": [
    "### Σημείωση: για να ανοίξουμε το αρχείο train.csv, πρέπει πρώτα να τρέξουμε το 'generate_train.ipynb', το οποίο το δημιουργεί."
   ]
  },
  {
   "cell_type": "code",
   "execution_count": 1,
   "metadata": {},
   "outputs": [],
   "source": [
    "import pandas as pd\n",
    "# pd.set_option('display.max_rows', 10000)\n",
    "train_df = pd.read_csv(\"train.csv\")"
   ]
  },
  {
   "cell_type": "markdown",
   "metadata": {},
   "source": [
    "### Ερώτημα 1.1: Συχνότερος τύπος δωματίου(room_type)"
   ]
  },
  {
   "cell_type": "code",
   "execution_count": 2,
   "metadata": {},
   "outputs": [
    {
     "data": {
      "text/plain": [
       "'Entire home/apt'"
      ]
     },
     "execution_count": 2,
     "metadata": {},
     "output_type": "execute_result"
    }
   ],
   "source": [
    "train_df['room_type'].value_counts().idxmax()"
   ]
  },
  {
   "cell_type": "markdown",
   "metadata": {},
   "source": [
    "### Ερώτημα 1.2: πορεία τιμών για το διάστημα των μηνών Φεβρουαρίου, Μαρτίου, Απριλίου\n",
    "### <span style=\"color:red\">Θέλει φτιάξιμο</span>"
   ]
  },
  {
   "cell_type": "code",
   "execution_count": null,
   "metadata": {
    "scrolled": true
   },
   "outputs": [],
   "source": []
  },
  {
   "cell_type": "markdown",
   "metadata": {},
   "source": [
    "### Ερώτημα 1.3: 5 πρώτες γειτονιές με τις περισσότερες κριτικές\n"
   ]
  },
  {
   "cell_type": "code",
   "execution_count": 3,
   "metadata": {
    "scrolled": false
   },
   "outputs": [
    {
     "data": {
      "text/html": [
       "<div>\n",
       "<style scoped>\n",
       "    .dataframe tbody tr th:only-of-type {\n",
       "        vertical-align: middle;\n",
       "    }\n",
       "\n",
       "    .dataframe tbody tr th {\n",
       "        vertical-align: top;\n",
       "    }\n",
       "\n",
       "    .dataframe thead th {\n",
       "        text-align: right;\n",
       "    }\n",
       "</style>\n",
       "<table border=\"1\" class=\"dataframe\">\n",
       "  <thead>\n",
       "    <tr style=\"text-align: right;\">\n",
       "      <th></th>\n",
       "      <th>number_of_reviews</th>\n",
       "    </tr>\n",
       "    <tr>\n",
       "      <th>neighbourhood</th>\n",
       "      <th></th>\n",
       "    </tr>\n",
       "  </thead>\n",
       "  <tbody>\n",
       "    <tr>\n",
       "      <th>Plaka</th>\n",
       "      <td>132361</td>\n",
       "    </tr>\n",
       "    <tr>\n",
       "      <th>Koukaki</th>\n",
       "      <td>90357</td>\n",
       "    </tr>\n",
       "    <tr>\n",
       "      <th>Neos Kosmos</th>\n",
       "      <td>83348</td>\n",
       "    </tr>\n",
       "    <tr>\n",
       "      <th>Psyri</th>\n",
       "      <td>54353</td>\n",
       "    </tr>\n",
       "    <tr>\n",
       "      <th>Metaxourgeio</th>\n",
       "      <td>44792</td>\n",
       "    </tr>\n",
       "  </tbody>\n",
       "</table>\n",
       "</div>"
      ],
      "text/plain": [
       "               number_of_reviews\n",
       "neighbourhood                   \n",
       "Plaka                     132361\n",
       "Koukaki                    90357\n",
       "Neos Kosmos                83348\n",
       "Psyri                      54353\n",
       "Metaxourgeio               44792"
      ]
     },
     "execution_count": 3,
     "metadata": {},
     "output_type": "execute_result"
    }
   ],
   "source": [
    "df = train_df[['neighbourhood', 'number_of_reviews']]\n",
    "df = df.groupby(df['neighbourhood']).sum().sort_values(by = \"number_of_reviews\", ascending = False)\n",
    "df.head(5)"
   ]
  },
  {
   "cell_type": "markdown",
   "metadata": {},
   "source": [
    "### Ερώτημα 1.4: Γειτονιά με τις περισσότερες καταχωρήσεις ακινήτων"
   ]
  },
  {
   "cell_type": "code",
   "execution_count": 4,
   "metadata": {},
   "outputs": [
    {
     "data": {
      "text/plain": [
       "'Plaka'"
      ]
     },
     "execution_count": 4,
     "metadata": {},
     "output_type": "execute_result"
    }
   ],
   "source": [
    "train_df['neighbourhood'].value_counts().idxmax()"
   ]
  },
  {
   "cell_type": "markdown",
   "metadata": {},
   "source": [
    "### Ερώτημα 1.5: Αριθμός καταχωρήσεων ανά γειτονιά και ανά μήνα"
   ]
  },
  {
   "cell_type": "code",
   "execution_count": 5,
   "metadata": {},
   "outputs": [
    {
     "data": {
      "text/plain": [
       "neighbourhood   month   \n",
       "Agios Loukas    april        71\n",
       "                february     68\n",
       "                march        70\n",
       "Agios Nikolaos  april       209\n",
       "                february    196\n",
       "                           ... \n",
       "Thiseio         february    314\n",
       "                march        94\n",
       "Votanikos       april        59\n",
       "                february     50\n",
       "                march        54\n",
       "Length: 96, dtype: int64"
      ]
     },
     "execution_count": 5,
     "metadata": {},
     "output_type": "execute_result"
    }
   ],
   "source": [
    "train_df.groupby([\"neighbourhood\",\"month\"]).size()"
   ]
  },
  {
   "cell_type": "markdown",
   "metadata": {},
   "source": [
    "### Ερώτημα 1.7: Συχνότερος τύπος δωματίου(room_type) ανά γειτονιά(neighbourhood)"
   ]
  },
  {
   "cell_type": "code",
   "execution_count": null,
   "metadata": {},
   "outputs": [],
   "source": []
  },
  {
   "cell_type": "markdown",
   "metadata": {},
   "source": [
    "### Ερώτημα 1.8: Ακριβότερος τύπος δωματίου(room_type)\n"
   ]
  },
  {
   "cell_type": "code",
   "execution_count": 6,
   "metadata": {},
   "outputs": [
    {
     "data": {
      "text/plain": [
       "22016    Entire home/apt\n",
       "Name: room_type, dtype: object"
      ]
     },
     "execution_count": 6,
     "metadata": {},
     "output_type": "execute_result"
    }
   ],
   "source": [
    "train_df[train_df['price'] == train_df['price'].max()]['room_type']"
   ]
  }
 ],
 "metadata": {
  "kernelspec": {
   "display_name": "Python 3",
   "language": "python",
   "name": "python3"
  },
  "language_info": {
   "codemirror_mode": {
    "name": "ipython",
    "version": 3
   },
   "file_extension": ".py",
   "mimetype": "text/x-python",
   "name": "python",
   "nbconvert_exporter": "python",
   "pygments_lexer": "ipython3",
   "version": "3.7.6"
  }
 },
 "nbformat": 4,
 "nbformat_minor": 4
}
