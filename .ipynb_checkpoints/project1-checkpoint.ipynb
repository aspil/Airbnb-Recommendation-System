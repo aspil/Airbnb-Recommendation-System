{
 "cells": [
  {
   "cell_type": "code",
   "execution_count": null,
   "metadata": {},
   "outputs": [],
   "source": [
    "import pandas as pd\n",
    "\n",
    "# Create train.csv file\n",
    "\n",
    "# ---------------------------------------------------------------------\n",
    "path1 = r'C:\\Users\\User\\Desktop\\local\\ted1\\data\\april\\listings.csv'\n",
    "\n",
    "df1 = pd.read_csv(path1, usecols = ['id', 'zipcode', 'transit', 'bedrooms', 'beds', 'review_scores_rating', 'number_of_reviews','neighbourhood', \n",
    "        'name', 'latitude', 'longitude', 'last_review', 'instant_bookable', 'host_since', 'host_response_rate',\n",
    "        'host_identity_verified', 'host_has_profile_pic', 'first_review', 'description', 'city', 'cancellation_policy',\n",
    "        'bed_type', 'bathrooms', 'accommodates', 'amenities', 'room_type', 'property_type', 'price', 'availability_365',\n",
    "        'minimum_nights'])\n",
    "\n",
    "df1['month'] = 'april'\n",
    "\n",
    "df1.to_csv('train.csv')  # index=False,header=False\n",
    "\n",
    "# ----------------------------------------------------------------------\n",
    "path2 = r'C:\\Users\\User\\Desktop\\local\\ted1\\data\\march\\listings.csv'\n",
    "\n",
    "df2 = pd.read_csv(path2, usecols = ['id', 'zipcode', 'transit', 'bedrooms', 'beds', 'review_scores_rating', 'number_of_reviews','neighbourhood', \n",
    "        'name', 'latitude', 'longitude', 'last_review', 'instant_bookable', 'host_since', 'host_response_rate',\n",
    "        'host_identity_verified', 'host_has_profile_pic', 'first_review', 'description', 'city', 'cancellation_policy',\n",
    "        'bed_type', 'bathrooms', 'accommodates', 'amenities', 'room_type', 'property_type', 'price', 'availability_365',\n",
    "        'minimum_nights'])\n",
    "\n",
    "df2['month'] = 'march'\n",
    "\n",
    "df2.to_csv('train.csv', mode='a')\n",
    "\n",
    "# ----------------------------------------------------------------------\n",
    "path3 = r'C:\\Users\\User\\Desktop\\local\\ted1\\data\\febrouary\\listings.csv'\n",
    "\n",
    "df3 = pd.read_csv(path3, usecols = ['id', 'zipcode', 'transit', 'bedrooms', 'beds', 'review_scores_rating', 'number_of_reviews','neighbourhood', \n",
    "        'name', 'latitude', 'longitude', 'last_review', 'instant_bookable', 'host_since', 'host_response_rate',\n",
    "        'host_identity_verified', 'host_has_profile_pic', 'first_review', 'description', 'city', 'cancellation_policy',\n",
    "        'bed_type', 'bathrooms', 'accommodates', 'amenities', 'room_type', 'property_type', 'price', 'availability_365',\n",
    "        'minimum_nights'])\n",
    "\n",
    "df3['month'] = 'february'\n",
    "\n",
    "df3.to_csv('train.csv', mode='a')\n",
    "\n",
    "# ----------------------------------------------------------------------\n",
    "resultPath = r'C:\\Users\\User\\Desktop\\local\\ted1\\train.csv'\n",
    "\n",
    "result = pd.read_csv(resultPath, usecols = ['id', 'zipcode', 'transit', 'bedrooms', 'beds', 'review_scores_rating', 'number_of_reviews','neighbourhood', \n",
    "        'name', 'latitude', 'longitude', 'last_review', 'instant_bookable', 'host_since', 'host_response_rate',\n",
    "        'host_identity_verified', 'host_has_profile_pic', 'first_review', 'description', 'city', 'cancellation_policy',\n",
    "        'bed_type', 'bathrooms', 'accommodates', 'amenities', 'room_type', 'property_type', 'price', 'availability_365',\n",
    "        'minimum_nights', 'month'])\n",
    "\n",
    "# result"
   ]
  },
  {
   "cell_type": "code",
   "execution_count": null,
   "metadata": {},
   "outputs": [],
   "source": []
  }
 ],
 "metadata": {
  "kernelspec": {
   "display_name": "Python 3",
   "language": "python",
   "name": "python3"
  },
  "language_info": {
   "codemirror_mode": {
    "name": "ipython",
    "version": 3
   },
   "file_extension": ".py",
   "mimetype": "text/x-python",
   "name": "python",
   "nbconvert_exporter": "python",
   "pygments_lexer": "ipython3",
   "version": "3.7.6"
  }
 },
 "nbformat": 4,
 "nbformat_minor": 4
}
